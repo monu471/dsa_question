{
 "cells": [
  {
   "cell_type": "markdown",
   "id": "7b950ffd",
   "metadata": {},
   "source": [
    "<aside>\n",
    "💡 **Question 1**\n",
    "Given an integer array nums of 2n integers, group these integers into n pairs (a1, b1), (a2, b2),..., (an, bn) such that the sum of min(ai, bi) for all i is maximized. Return the maximized sum.\n",
    "\n",
    "**Example 1:**\n",
    "Input: nums = [1,4,3,2]\n",
    "Output: 4\n",
    "\n",
    "**Explanation:** All possible pairings (ignoring the ordering of elements) are:\n",
    "\n",
    "1. (1, 4), (2, 3) -> min(1, 4) + min(2, 3) = 1 + 2 = 3\n",
    "2. (1, 3), (2, 4) -> min(1, 3) + min(2, 4) = 1 + 2 = 3\n",
    "3. (1, 2), (3, 4) -> min(1, 2) + min(3, 4) = 1 + 3 = 4\n",
    "So the maximum possible sum is 4\n",
    "</aside>"
   ]
  },
  {
   "cell_type": "code",
   "execution_count": 3,
   "id": "3ba5dd74",
   "metadata": {},
   "outputs": [],
   "source": [
    " def arrayPairSum(nums):\n",
    "    \"\"\"\n",
    "    :type nums: List[int]\n",
    "    :rtype: int\n",
    "    \"\"\"\n",
    "    nums.sort()\n",
    "    result = 0\n",
    "    numsLen = len(nums)\n",
    "    for i in range(0, numsLen - 1, 2):\n",
    "        result += nums[i]\n",
    "    return result\n",
    "\n",
    "    "
   ]
  },
  {
   "cell_type": "code",
   "execution_count": 4,
   "id": "7bb021e8",
   "metadata": {},
   "outputs": [
    {
     "data": {
      "text/plain": [
       "4"
      ]
     },
     "execution_count": 4,
     "metadata": {},
     "output_type": "execute_result"
    }
   ],
   "source": [
    "arrayPairSum([1,4,3,2])"
   ]
  },
  {
   "cell_type": "markdown",
   "id": "5a951722",
   "metadata": {},
   "source": [
    "## question2"
   ]
  },
  {
   "cell_type": "markdown",
   "id": "aefff6c7",
   "metadata": {},
   "source": [
    "Question 2\n",
    "Alice has n candies, where the ith candy is of type candyType[i]. Alice noticed that she started to gain weight, so she visited a doctor. \n",
    "\n",
    "The doctor advised Alice to only eat n / 2 of the candies she has (n is always even). Alice likes her candies very much, and she wants to eat the maximum number of different types of candies while still following the doctor's advice. \n",
    "\n",
    "Given the integer array candyType of length n, return the maximum number of different types of candies she can eat if she only eats n / 2 of them.\n",
    "\n",
    "Example 1:\n",
    "Input: candyType = [1,1,2,2,3,3]\n",
    "Output: 3\n",
    "\n",
    "Explanation: Alice can only eat 6 / 2 = 3 candies. Since there are only 3 types, she can eat one of each type."
   ]
  },
  {
   "cell_type": "code",
   "execution_count": 6,
   "id": "e108bce1",
   "metadata": {},
   "outputs": [],
   "source": [
    "def distributeCandies(candyType):\n",
    "        # We need to count how many unique candies are in the array.\n",
    "        unique_candies = 0\n",
    "        for i in range(len(candyType)):\n",
    "            for j in range(0, i):\n",
    "                if candyType[i] == candyType[j]:\n",
    "                    break\n",
    "            else:\n",
    "                unique_candies += 1\n",
    "        return min(unique_candies, len(candyType) // 2)"
   ]
  },
  {
   "cell_type": "code",
   "execution_count": 7,
   "id": "71d94e7b",
   "metadata": {},
   "outputs": [
    {
     "data": {
      "text/plain": [
       "3"
      ]
     },
     "execution_count": 7,
     "metadata": {},
     "output_type": "execute_result"
    }
   ],
   "source": [
    "distributeCandies( [1,1,2,2,3,3])"
   ]
  },
  {
   "cell_type": "markdown",
   "id": "ba64576b",
   "metadata": {},
   "source": [
    "### Question 3"
   ]
  },
  {
   "cell_type": "markdown",
   "id": "931d58cd",
   "metadata": {},
   "source": [
    "We define a harmonious array as an array where the difference between its maximum value\n",
    "and its minimum value is exactly 1.\n",
    "\n",
    "Given an integer array nums, return the length of its longest harmonious subsequence\n",
    "among all its possible subsequences.\n",
    "\n",
    "A subsequence of an array is a sequence that can be derived from the array by deleting some or no elements without changing the order of the remaining elements.\n",
    "\n",
    "Example 1:\n",
    "Input: nums = [1,3,2,2,5,2,3,7]\n",
    "Output: 5\n",
    "\n",
    "Explanation: The longest harmonious subsequence is [3,2,2,2,3]."
   ]
  },
  {
   "cell_type": "code",
   "execution_count": 11,
   "id": "0f6b66fa",
   "metadata": {},
   "outputs": [],
   "source": [
    "from collections import Counter\n",
    "\n",
    "def findLHS(nums):\n",
    "    num_counts = Counter(nums)\n",
    "    max_length = 0\n",
    "\n",
    "    for num in num_counts:\n",
    "        if num + 1 in num_counts:\n",
    "            length = num_counts[num] + num_counts[num + 1]\n",
    "            max_length = max(max_length, length)\n",
    "\n",
    "    return max_length\n",
    "\n"
   ]
  },
  {
   "cell_type": "markdown",
   "id": "2d59651e",
   "metadata": {},
   "source": [
    "### question4"
   ]
  },
  {
   "cell_type": "markdown",
   "id": "a1a9aa88",
   "metadata": {},
   "source": [
    "Question 4\n",
    "You have a long flowerbed in which some of the plots are planted, and some are not.\n",
    "However, flowers cannot be planted in adjacent plots.\n",
    "Given an integer array flowerbed containing 0's and 1's, where 0 means empty and 1 means not empty, and an integer n, return true if n new flowers can be planted in the flowerbed without violating the no-adjacent-flowers rule and false otherwise.\n",
    "\n",
    "Example 1:\n",
    "Input: flowerbed = [1,0,0,0,1], n = 1\n",
    "Output: true"
   ]
  },
  {
   "cell_type": "code",
   "execution_count": 16,
   "id": "e2bbe3fb",
   "metadata": {},
   "outputs": [],
   "source": [
    "    def canPlaceFlowers(flowerbed, n):\n",
    "        count, prev = 0, 0\n",
    "\n",
    "        for cur in flowerbed:\n",
    "            if cur == 1:\n",
    "                if prev == 1: # violation!\n",
    "                    count -= 1\n",
    "                prev = 1\n",
    "            else:\n",
    "                if prev == 1: # can't plant\n",
    "                    prev = 0 \n",
    "                else:\n",
    "                    count += 1\n",
    "                    prev = 1 # the cur plot gets taken\n",
    "            \n",
    "        return count >= n"
   ]
  },
  {
   "cell_type": "code",
   "execution_count": 17,
   "id": "5f3a7243",
   "metadata": {},
   "outputs": [
    {
     "data": {
      "text/plain": [
       "True"
      ]
     },
     "execution_count": 17,
     "metadata": {},
     "output_type": "execute_result"
    }
   ],
   "source": [
    "canPlaceFlowers([1,0,0,0,1],1)"
   ]
  },
  {
   "cell_type": "markdown",
   "id": "1703d885",
   "metadata": {},
   "source": [
    "### question 5"
   ]
  },
  {
   "cell_type": "markdown",
   "id": "bb233cc2",
   "metadata": {},
   "source": [
    "Question 5\n",
    "Given an integer array nums, find three numbers whose product is maximum and return the maximum product.\n",
    "\n",
    "Example 1:\n",
    "Input: nums = [1,2,3]\n",
    "Output: 6"
   ]
  },
  {
   "cell_type": "code",
   "execution_count": 20,
   "id": "7b785709",
   "metadata": {},
   "outputs": [],
   "source": [
    "class Solution:\n",
    "    def maximumProduct(self, nums) -> int:\n",
    "        smallestTwo = [float('inf')]*2\n",
    "        largestThree = [float('-inf')]*3\n",
    "        for num in nums:\n",
    "            if num <= smallestTwo[0]:\n",
    "                smallestTwo[0] = num\n",
    "                smallestTwo.sort(reverse=True)\n",
    "            if num >= largestThree[0]:\n",
    "                largestThree[0] = num\n",
    "                largestThree.sort()\n",
    "        return max(smallestTwo[0]*smallestTwo[1]*largestThree[2], \n",
    "                   largestThree[0]*largestThree[1]*largestThree[2])"
   ]
  },
  {
   "cell_type": "code",
   "execution_count": 21,
   "id": "cf0302f5",
   "metadata": {},
   "outputs": [
    {
     "data": {
      "text/plain": [
       "6"
      ]
     },
     "execution_count": 21,
     "metadata": {},
     "output_type": "execute_result"
    }
   ],
   "source": [
    "nums = [1,2,3]\n",
    "a  = Solution()\n",
    "a.maximumProduct(nums)"
   ]
  },
  {
   "cell_type": "markdown",
   "id": "ff3a2cc2",
   "metadata": {},
   "source": [
    "### Question 6"
   ]
  },
  {
   "cell_type": "markdown",
   "id": "e7b7ac1e",
   "metadata": {},
   "source": [
    "Question 6\n",
    "Given an array of integers nums which is sorted in ascending order, and an integer target,\n",
    "write a function to search target in nums. If target exists, then return its index. Otherwise,\n",
    "return -1.\n",
    "\n",
    "You must write an algorithm with O(log n) runtime complexity.\n",
    "\n",
    "Input: nums = [-1,0,3,5,9,12], target = 9\n",
    "Output: 4\n",
    "\n",
    "Explanation: 9 exists in nums and its index is 4"
   ]
  },
  {
   "cell_type": "code",
   "execution_count": null,
   "id": "f2ff9f75",
   "metadata": {},
   "outputs": [],
   "source": [
    "class Solution:\n",
    "    def search(self, nums: List[int], target: int) -> int:\n",
    "        left = 0\n",
    "        right = len(nums)-1\n",
    "        \n",
    "        while left<=right:\n",
    "            mid = (left+right)//2\n",
    "            if nums[mid]==target:\n",
    "                return mid\n",
    "            elif nums[mid]>target:\n",
    "                right = mid-1\n",
    "            else:\n",
    "                left = mid+1\n",
    "        \n",
    "        return -1"
   ]
  },
  {
   "cell_type": "markdown",
   "id": "6754d877",
   "metadata": {},
   "source": [
    "### question 7"
   ]
  },
  {
   "cell_type": "markdown",
   "id": "de11923f",
   "metadata": {},
   "source": [
    "Question 7\n",
    "An array is monotonic if it is either monotone increasing or monotone decreasing.\n",
    "\n",
    "An array nums is monotone increasing if for all i <= j, nums[i] <= nums[j]. An array nums is\n",
    "monotone decreasing if for all i <= j, nums[i] >= nums[j].\n",
    "\n",
    "Given an integer array nums, return true if the given array is monotonic, or false otherwise.\n",
    "\n",
    "Example 1:\n",
    "Input: nums = [1,2,2,3]\n",
    "Output: true"
   ]
  },
  {
   "cell_type": "code",
   "execution_count": 22,
   "id": "b589824c",
   "metadata": {},
   "outputs": [],
   "source": [
    "class Solution:\n",
    "    def isMonotonic(self, A) -> bool:\n",
    "        if A[-1] < A[0]: \n",
    "            A = A[::-1]\n",
    "        \n",
    "        for i in range(1, len(A)):\n",
    "            if A[i] < A[i-1]:\n",
    "                return False\n",
    "        return True"
   ]
  },
  {
   "cell_type": "markdown",
   "id": "f53137ea",
   "metadata": {},
   "source": [
    "### question 8"
   ]
  },
  {
   "cell_type": "markdown",
   "id": "f22c5607",
   "metadata": {},
   "source": [
    "Question 8\n",
    "You are given an integer array nums and an integer k.\n",
    "\n",
    "In one operation, you can choose any index i where 0 <= i < nums.length and change nums[i] to nums[i] + x where x is an integer from the range [-k, k]. You can apply this operation at most once for each index i.\n",
    "\n",
    "The score of nums is the difference between the maximum and minimum elements in nums.\n",
    "\n",
    "Return the minimum score of nums after applying the mentioned operation at most once for each index in it.\n",
    "\n",
    "Example 1:\n",
    "Input: nums = [1], k = 0\n",
    "Output: 0\n",
    "\n",
    "Explanation: The score is max(nums) - min(nums) = 1 - 1 = 0."
   ]
  },
  {
   "cell_type": "code",
   "execution_count": null,
   "id": "80311c84",
   "metadata": {},
   "outputs": [],
   "source": [
    "class Solution:\n",
    "    def smallestRangeI(self, A: List[int], K: int) -> int:\n",
    "\n",
    "        M, m = max(A), min(A)\n",
    "        diff, extension = M - m, 2*K\n",
    "        \n",
    "        if diff <= extension:\n",
    "            return 0\n",
    "        \n",
    "        else:\n",
    "            return diff - extension"
   ]
  }
 ],
 "metadata": {
  "kernelspec": {
   "display_name": "Python 3 (ipykernel)",
   "language": "python",
   "name": "python3"
  },
  "language_info": {
   "codemirror_mode": {
    "name": "ipython",
    "version": 3
   },
   "file_extension": ".py",
   "mimetype": "text/x-python",
   "name": "python",
   "nbconvert_exporter": "python",
   "pygments_lexer": "ipython3",
   "version": "3.10.9"
  }
 },
 "nbformat": 4,
 "nbformat_minor": 5
}

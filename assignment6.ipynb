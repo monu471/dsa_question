{
 "cells": [
  {
   "cell_type": "markdown",
   "id": "15fcd44e",
   "metadata": {},
   "source": [
    "<aside>\n",
    "💡 **Question 1**\n",
    "\n",
    "A permutation perm of n + 1 integers of all the integers in the range [0, n] can be represented as a string s of length n where:\n",
    "\n",
    "- s[i] == 'I' if perm[i] < perm[i + 1], and\n",
    "- s[i] == 'D' if perm[i] > perm[i + 1].\n",
    "\n",
    "Given a string s, reconstruct the permutation perm and return it. If there are multiple valid permutations perm, return **any of them**.\n",
    "\n",
    "**Example 1:**\n",
    "\n",
    "**Input:** s = \"IDID\"\n",
    "\n",
    "**Output:**\n",
    "\n",
    "[0,4,1,3,2]\n",
    "\n",
    "</aside>"
   ]
  },
  {
   "cell_type": "code",
   "execution_count": 2,
   "id": "d666557f",
   "metadata": {},
   "outputs": [],
   "source": [
    "def diStringMatch(self, S):\n",
    "    s, l = 0, len(S)\n",
    "    res = []\n",
    "    for c in S:\n",
    "        if c==\"I\":\n",
    "            res.append(s)\n",
    "            s+=1\n",
    "        else:\n",
    "            res.append(l)\n",
    "            l-=1\n",
    "    res.append(s)\n",
    "    return res"
   ]
  },
  {
   "cell_type": "markdown",
   "id": "96b920b8",
   "metadata": {},
   "source": [
    "<aside>\n",
    "💡 **Question 2**\n",
    "\n",
    "You are given an m x n integer matrix matrix with the following two properties:\n",
    "\n",
    "- Each row is sorted in non-decreasing order.\n",
    "- The first integer of each row is greater than the last integer of the previous row.\n",
    "\n",
    "Given an integer target, return true *if* target *is in* matrix *or* false *otherwise*.\n",
    "\n",
    "You must write a solution in O(log(m * n)) time complexity.\n",
    "\n",
    "</aside>"
   ]
  },
  {
   "cell_type": "code",
   "execution_count": 3,
   "id": "86fb7116",
   "metadata": {},
   "outputs": [],
   "source": [
    "class Solution:\n",
    "    def searchMatrix(self, matrix, target):\n",
    "        n = len(matrix[0])\n",
    "        def get(idx) :\n",
    "            r, c = divmod(idx, n)\n",
    "            return matrix[r][c]\n",
    "        return get(bisect_left(range(len(matrix)*n-1), target, key=get)) == target"
   ]
  },
  {
   "cell_type": "code",
   "execution_count": null,
   "id": "c988f6d7",
   "metadata": {},
   "outputs": [],
   "source": []
  },
  {
   "cell_type": "markdown",
   "id": "abe7e715",
   "metadata": {},
   "source": [
    "<aside>\n",
    "💡 **Question 3**\n",
    "\n",
    "Given an array of integers arr, return *true if and only if it is a valid mountain array*.\n",
    "\n",
    "Recall that arr is a mountain array if and only if:\n",
    "\n",
    "- arr.length >= 3\n",
    "- There exists some i with 0 < i < arr.length - 1 such that:\n",
    "    - arr[0] < arr[1] < ... < arr[i - 1] < arr[i]\n",
    "    - arr[i] > arr[i + 1] > ... > arr[arr.length - 1]\n",
    "</aside>"
   ]
  },
  {
   "cell_type": "code",
   "execution_count": 4,
   "id": "de9f429a",
   "metadata": {},
   "outputs": [],
   "source": [
    "def validMountainArray(self, a):\n",
    "    start, end, L = 0, -1, len(a)\n",
    "\n",
    "    while start < L-1 and a[start] < a[start+1]: \n",
    "        start += 1\n",
    "    while end > -L and a[end] < a[end-1]: \n",
    "        end -= 1\n",
    "\n",
    "    return start == end + L and 0 < start and end < -1"
   ]
  },
  {
   "cell_type": "code",
   "execution_count": null,
   "id": "779cc169",
   "metadata": {},
   "outputs": [],
   "source": []
  },
  {
   "cell_type": "markdown",
   "id": "a1235e08",
   "metadata": {},
   "source": [
    "<aside>\n",
    "💡 **Question 4**\n",
    "\n",
    "Given a binary array nums, return *the maximum length of a contiguous subarray with an equal number of* 0 *and* 1.\n",
    "\n",
    "**Example 1:**\n",
    "\n",
    "**Input:** nums = [0,1]\n",
    "\n",
    "**Output:** 2\n",
    "\n",
    "**Explanation:**\n",
    "\n",
    "[0, 1] is the longest contiguous subarray with an equal number of 0 and 1.\n",
    "\n",
    "</aside>"
   ]
  },
  {
   "cell_type": "code",
   "execution_count": 5,
   "id": "6090eee2",
   "metadata": {},
   "outputs": [],
   "source": [
    "class Solution:\n",
    "    def findMaxLength(self, nums):\n",
    "\n",
    "        partial_sum = 0\n",
    "        \n",
    "\t\t# table is a dictionary\n",
    "\t\t# key : partial sum value\n",
    "\t\t# value : the left-most index who has the partial sum value\n",
    "\t\t\n",
    "        table = { 0: -1}\n",
    "        \n",
    "        max_length = 0\n",
    "        \n",
    "        for idx, number in enumerate( nums ):\n",
    "            \n",
    "            # partial_sum add 1 for 1\n",
    "            # partial_sum minus 1 for 0\n",
    "            \n",
    "            if number:\n",
    "                partial_sum += 1\n",
    "            else:\n",
    "                partial_sum -= 1\n",
    "                \n",
    "            \n",
    "            if partial_sum in table:\n",
    "                \n",
    "                # we have a subarray with equal number of 0 and 1\n",
    "                # update max length\n",
    "                \n",
    "                max_length = max( max_length, ( idx - table[partial_sum] ) )\n",
    "                \n",
    "            else:\n",
    "                # update the left-most index for specified partial sum value\n",
    "                table[ partial_sum ] = idx\n",
    "                \n",
    "        return max_length"
   ]
  },
  {
   "cell_type": "markdown",
   "id": "ab133588",
   "metadata": {},
   "source": []
  },
  {
   "cell_type": "markdown",
   "id": "177b6507",
   "metadata": {},
   "source": [
    "<aside>\n",
    "💡 **Question 5**\n",
    "\n",
    "The **product sum** of two equal-length arrays a and b is equal to the sum of a[i] * b[i] for all 0 <= i < a.length (**0-indexed**).\n",
    "\n",
    "- For example, if a = [1,2,3,4] and b = [5,2,3,1], the **product sum** would be 1*5 + 2*2 + 3*3 + 4*1 = 22.\n",
    "\n",
    "Given two arrays nums1 and nums2 of length n, return *the **minimum product sum** if you are allowed to **rearrange** the **order** of the elements in* nums1.\n",
    "\n",
    "**Example 1:**\n",
    "\n",
    "**Input:** nums1 = [5,3,4,2], nums2 = [4,2,2,5]\n",
    "\n",
    "**Output:** 40\n",
    "\n",
    "**Explanation:**\n",
    "\n",
    "We can rearrange nums1 to become [3,5,4,2]. The product sum of [3,5,4,2] and [4,2,2,5] is 3*4 + 5*2 + 4*2 + 2*5 = 40.\n",
    "\n",
    "</aside>"
   ]
  },
  {
   "cell_type": "code",
   "execution_count": null,
   "id": "7b5865a2",
   "metadata": {},
   "outputs": [],
   "source": [
    "def minProductSum(nums1, nums2):\n",
    "    nums1.sort()\n",
    "    nums2.sort(reverse=True)\n",
    "    productSum = 0\n",
    "    for i in range(len(nums1)):\n",
    "        productSum += nums1[i] * nums2[i]\n",
    "    return productSum\n"
   ]
  },
  {
   "cell_type": "markdown",
   "id": "8c211c9d",
   "metadata": {},
   "source": [
    "<aside>\n",
    "💡 **Question 6**\n",
    "\n",
    "An integer array original is transformed into a **doubled** array changed by appending **twice the value** of every element in original, and then randomly **shuffling** the resulting array.\n",
    "\n",
    "Given an array changed, return original *if* changed *is a **doubled** array. If* changed *is not a **doubled** array, return an empty array. The elements in* original *may be returned in **any** order*.\n",
    "\n",
    "**Example 1:**\n",
    "\n",
    "**Input:** changed = [1,3,4,2,6,8]\n",
    "\n",
    "**Output:** [1,3,4]\n",
    "\n",
    "**Explanation:** One possible original array could be [1,3,4]:\n",
    "\n",
    "- Twice the value of 1 is 1 * 2 = 2.\n",
    "- Twice the value of 3 is 3 * 2 = 6.\n",
    "- Twice the value of 4 is 4 * 2 = 8.\n",
    "\n",
    "Other original arrays could be [4,3,1] or [3,1,4].\n",
    "\n",
    "</aside>"
   ]
  },
  {
   "cell_type": "code",
   "execution_count": 7,
   "id": "08060c02",
   "metadata": {},
   "outputs": [],
   "source": [
    "# Time Complexity: O(NlogN)\n",
    "# Space Complextiy O(N)\n",
    "# where N is the number of elements in `changed` \n",
    "class Solution:\n",
    "    def findOriginalArray(self, changed):\n",
    "        # use Counter to count the frequency of each element in `changed`\n",
    "        cnt, ans = Counter(changed), []\n",
    "        # if the length of the input is odd, then return []\n",
    "        # because doubled array must have even length\n",
    "        if len(changed) % 2: return []\n",
    "        # sort in ascending order\n",
    "        for x in sorted(cnt.keys()):\n",
    "            # if the number of cnt[x] is greater than than cnt[x * 2]\n",
    "            # then there would be some cnt[x] left\n",
    "            # therefore, return [] here as changed is not a doubled array\n",
    "            if cnt[x] > cnt[x * 2]: return []\n",
    "            # handle cases like [0,0,0,0]\n",
    "            if x == 0:\n",
    "                # similarly, odd length -> return []\n",
    "                if cnt[x] % 2:\n",
    "                    return []\n",
    "                else: \n",
    "                    # add `0` `cnt[x] // 2` times \n",
    "                    ans += [0] * (cnt[x] // 2)\n",
    "            else:\n",
    "                # otherwise, we put the element `x` `cnt[x]` times to ans\n",
    "                ans += [x] * cnt[x]\n",
    "            cnt[2 * x] -= cnt[x]\n",
    "        return ans"
   ]
  },
  {
   "cell_type": "code",
   "execution_count": null,
   "id": "eecddeb1",
   "metadata": {},
   "outputs": [],
   "source": []
  },
  {
   "cell_type": "markdown",
   "id": "392852eb",
   "metadata": {},
   "source": [
    "Given a positive integer n, generate an n x n matrix filled with elements from 1 to n2 in spiral order."
   ]
  },
  {
   "cell_type": "code",
   "execution_count": 9,
   "id": "9c302c26",
   "metadata": {},
   "outputs": [],
   "source": [
    "class Solution:\n",
    "    def generateMatrix(self, n: int):\n",
    "        if not n:\n",
    "            return []\n",
    "        matrix = [[0 for _ in range(n)] for _ in range(n)]\n",
    "        left, right, top, bottom, num = 0, n-1, 0, n-1, 1\n",
    "        while left <= right and top <= bottom:\n",
    "            for i in range(left, right+1):\n",
    "                matrix[top][i] = num \n",
    "                num += 1\n",
    "            top += 1\n",
    "            for i in range(top, bottom+1):\n",
    "                matrix[i][right] = num\n",
    "                num += 1\n",
    "            right -= 1\n",
    "            if top <= bottom:\n",
    "                for i in range(right, left-1, -1):\n",
    "                    matrix[bottom][i] = num\n",
    "                    num += 1\n",
    "                bottom -= 1\n",
    "            if left <= right:\n",
    "                for i in range(bottom, top-1, -1):\n",
    "                    matrix[i][left] = num\n",
    "                    num += 1\n",
    "                left += 1\n",
    "        return matrix"
   ]
  },
  {
   "cell_type": "markdown",
   "id": "2e135b66",
   "metadata": {},
   "source": [
    "<aside>\n",
    "💡 **Question 8**\n",
    "\n",
    "Given two [sparse matrices](https://en.wikipedia.org/wiki/Sparse_matrix) mat1 of size m x k and mat2 of size k x n, return the result of mat1 x mat2. You may assume that multiplication is always possible.\n",
    "\n",
    "</aside>"
   ]
  },
  {
   "cell_type": "code",
   "execution_count": null,
   "id": "c6f55963",
   "metadata": {},
   "outputs": [],
   "source": []
  }
 ],
 "metadata": {
  "kernelspec": {
   "display_name": "Python 3 (ipykernel)",
   "language": "python",
   "name": "python3"
  },
  "language_info": {
   "codemirror_mode": {
    "name": "ipython",
    "version": 3
   },
   "file_extension": ".py",
   "mimetype": "text/x-python",
   "name": "python",
   "nbconvert_exporter": "python",
   "pygments_lexer": "ipython3",
   "version": "3.10.9"
  }
 },
 "nbformat": 4,
 "nbformat_minor": 5
}

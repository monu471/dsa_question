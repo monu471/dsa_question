{
 "cells": [
  {
   "cell_type": "markdown",
   "id": "455c7bbf",
   "metadata": {},
   "source": [
    "Question 1\n",
    "Given an integer array nums of length n and an integer target, find three integers\n",
    "in nums such that the sum is closest to the target.\n",
    "Return the sum of the three integers.\n",
    "\n",
    "You may assume that each input would have exactly one solution.\n",
    "\n",
    "Example 1:\n",
    "Input: nums = [-1,2,1,-4], target = 1\n",
    "Output: 2\n",
    "\n",
    "Explanation: The sum that is closest to the target is 2. (-1 + 2 + 1 = 2)."
   ]
  },
  {
   "cell_type": "code",
   "execution_count": 29,
   "id": "742d8c79",
   "metadata": {},
   "outputs": [],
   "source": [
    "class Solution:\n",
    "    def threeSumClosest(self, nums, target):\n",
    "        nums.sort()\n",
    "        n = len(nums)\n",
    "        diff = float('inf')\n",
    "        res = 0\n",
    "        for i in range(n - 2):\n",
    "            left = i + 1\n",
    "            right = n - 1\n",
    "            while left < right:\n",
    "                s = nums[i] + nums[left] + nums[right]\n",
    "                if abs(target - s) < diff:\n",
    "                    diff = abs(target - s)\n",
    "                    res = s\n",
    "                if s < target:\n",
    "                    left += 1\n",
    "                else:\n",
    "                    right -= 1\n",
    "        return res"
   ]
  },
  {
   "cell_type": "code",
   "execution_count": null,
   "id": "d643a1af",
   "metadata": {},
   "outputs": [],
   "source": []
  },
  {
   "cell_type": "markdown",
   "id": "d3335f5e",
   "metadata": {},
   "source": [
    "### Question 2 "
   ]
  },
  {
   "cell_type": "markdown",
   "id": "a197c92b",
   "metadata": {},
   "source": [
    "Question 2\n",
    "Given an array nums of n integers, return an array of all the unique quadruplets\n",
    "[nums[a], nums[b], nums[c], nums[d]] such that:\n",
    "           ● 0 <= a, b, c, d < n\n",
    "           ● a, b, c, and d are distinct.\n",
    "           ● nums[a] + nums[b] + nums[c] + nums[d] == target\n",
    "\n",
    "You may return the answer in any order.\n",
    "\n",
    "Example 1:\n",
    "Input: nums = [1,0,-1,0,-2,2], target = 0\n",
    "Output: [[-2,-1,1,2],[-2,0,0,2],[-1,0,0,1]]"
   ]
  },
  {
   "cell_type": "code",
   "execution_count": 34,
   "id": "84405ae3",
   "metadata": {},
   "outputs": [],
   "source": [
    "class Solution:\n",
    "    def fourSum(self, nums, target):\n",
    "        n = len(nums)\n",
    "        seen = set()\n",
    "        ans = set()\n",
    "        for i in range(n):\n",
    "            for j in range(i+1, n):\n",
    "                for k in range(j+1, n):\n",
    "                    lastNumber = target - nums[i] - nums[j] - nums[k]\n",
    "                    if lastNumber in seen:\n",
    "                        arr = sorted([nums[i], nums[j], nums[k], lastNumber])\n",
    "                        ans.add((arr[0], arr[1], arr[2], arr[3]))\n",
    "            seen.add(nums[i])\n",
    "        return ans"
   ]
  },
  {
   "cell_type": "code",
   "execution_count": null,
   "id": "872a48ea",
   "metadata": {},
   "outputs": [],
   "source": []
  },
  {
   "cell_type": "code",
   "execution_count": null,
   "id": "671f0331",
   "metadata": {},
   "outputs": [],
   "source": [
    "Question 3\n"
   ]
  },
  {
   "cell_type": "code",
   "execution_count": null,
   "id": "e9ff8ee1",
   "metadata": {},
   "outputs": [],
   "source": [
    "<aside>\n",
    "💡 **Question 3**\n",
    "A permutation of an array of integers is an arrangement of its members into a\n",
    "sequence or linear order.\n",
    "\n",
    "For example, for arr = [1,2,3], the following are all the permutations of arr:\n",
    "[1,2,3], [1,3,2], [2, 1, 3], [2, 3, 1], [3,1,2], [3,2,1].\n",
    "\n",
    "The next permutation of an array of integers is the next lexicographically greater\n",
    "permutation of its integer. More formally, if all the permutations of the array are\n",
    "sorted in one container according to their lexicographical order, then the next\n",
    "permutation of that array is the permutation that follows it in the sorted container.\n",
    "\n",
    "If such an arrangement is not possible, the array must be rearranged as the\n",
    "lowest possible order (i.e., sorted in ascending order).\n",
    "\n",
    "● For example, the next permutation of arr = [1,2,3] is [1,3,2].\n",
    "● Similarly, the next permutation of arr = [2,3,1] is [3,1,2].\n",
    "● While the next permutation of arr = [3,2,1] is [1,2,3] because [3,2,1] does not\n",
    "have a lexicographical larger rearrangement.\n",
    "\n",
    "Given an array of integers nums, find the next permutation of nums.\n",
    "The replacement must be in place and use only constant extra memory.\n",
    "\n",
    "**Example 1:**\n",
    "Input: nums = [1,2,3]\n",
    "Output: [1,3,2]\n",
    "\n",
    "</aside>"
   ]
  },
  {
   "cell_type": "markdown",
   "id": "5162cad3",
   "metadata": {},
   "source": [
    "### Question 4"
   ]
  },
  {
   "cell_type": "markdown",
   "id": "a5e3641b",
   "metadata": {},
   "source": [
    "Given a sorted array of distinct integers and a target value, return the index if the\n",
    "target is found. If not, return the index where it would be if it were inserted in\n",
    "order.\n",
    "\n",
    "You must write an algorithm with O(log n) runtime complexity.\n",
    "\n",
    "Example 1:\n",
    "Input: nums = [1,3,5,6], target = 5\n",
    "Output: 2"
   ]
  },
  {
   "cell_type": "code",
   "execution_count": 36,
   "id": "1c0a71f5",
   "metadata": {},
   "outputs": [],
   "source": [
    "class Solution(object):\n",
    "    def searchInsert(self, nums, target):\n",
    "        \"\"\"\n",
    "        :type nums: List[int]\n",
    "        :type target: int\n",
    "        :rtype: int\n",
    "        \"\"\"\n",
    "        # Last and First indexes\n",
    "        start = 0\n",
    "        end = len(nums) - 1\n",
    "        \n",
    "        # Traverse an array\n",
    "        while (start <= end):\n",
    "            \n",
    "            mid = (start + end)/2\n",
    "             \n",
    "            # if target value found.\n",
    "            if nums[mid] == target:\n",
    "                return mid\n",
    "            \n",
    "            # If target value is greater then mid elements's value\n",
    "            elif target > nums[mid]:\n",
    "                start = mid + 1\n",
    "                \n",
    "            # otherwise target value is less, \n",
    "            else:\n",
    "                end = mid -1\n",
    "        # Return the insertion position\n",
    "        return end + 1"
   ]
  },
  {
   "cell_type": "markdown",
   "id": "40557603",
   "metadata": {},
   "source": [
    "## Question 5"
   ]
  },
  {
   "cell_type": "markdown",
   "id": "8b2e0a04",
   "metadata": {},
   "source": [
    "<aside>\n",
    "💡 **Question 5**\n",
    "You are given a large integer represented as an integer array digits, where each\n",
    "digits[i] is the ith digit of the integer. The digits are ordered from most significant\n",
    "to least significant in left-to-right order. The large integer does not contain any\n",
    "leading 0's.\n",
    "\n",
    "Increment the large integer by one and return the resulting array of digits.\n",
    "\n",
    "**Example 1:**\n",
    "Input: digits = [1,2,3]\n",
    "Output: [1,2,4]\n",
    "\n",
    "**Explanation:** The array represents the integer 123.\n",
    "Incrementing by one gives 123 + 1 = 124.\n",
    "Thus, the result should be [1,2,4].\n",
    "\n",
    "</aside>"
   ]
  },
  {
   "cell_type": "code",
   "execution_count": 38,
   "id": "f082dc28",
   "metadata": {},
   "outputs": [],
   "source": [
    "class Solution(object):\n",
    "    def plusOne(self, digits):\n",
    "        \"\"\"\n",
    "        :type digits: List[int]\n",
    "        :rtype: List[int]\n",
    "        \"\"\"\n",
    "        digit_length = len(digits)\n",
    "        \n",
    "        i = digit_length - 1\n",
    "        \n",
    "        while digits[i] == 9 and i >= 0:\n",
    "            i -= 1\n",
    "        \n",
    "        if i == -1:\n",
    "            results = [0]*(digit_length + 1)\n",
    "            results[0] = 1\n",
    "            return results\n",
    "        \n",
    "        results = [0]*(digit_length)\n",
    "        \n",
    "        results[i] = digits[i] + 1\n",
    "        \n",
    "        for j in range(i-1, -1, -1):\n",
    "            results[j] = digits[j]\n",
    "        \n",
    "        return results"
   ]
  },
  {
   "cell_type": "markdown",
   "id": "de52290f",
   "metadata": {},
   "source": [
    "### Question 6"
   ]
  },
  {
   "cell_type": "markdown",
   "id": "5fa08bd9",
   "metadata": {},
   "source": [
    "Given a non-empty array of integers nums, every element appears twice except\n",
    "for one. Find that single one.\n",
    "\n",
    "You must implement a solution with a linear runtime complexity and use only\n",
    "constant extra space.\n",
    "\n",
    "Example 1:\n",
    "Input: nums = [2,2,1]\n",
    "Output: 1"
   ]
  },
  {
   "cell_type": "code",
   "execution_count": null,
   "id": "b644a4cb",
   "metadata": {},
   "outputs": [],
   "source": [
    "class Solution(object):\n",
    "    def singleNumber(self, nums):\n",
    "        \"\"\"\n",
    "        :type nums: List[int]\n",
    "        :rtype: int\n",
    "        \"\"\"\n",
    "        hash_table = {}\n",
    "        for i in nums:\n",
    "            try:\n",
    "                hash_table.pop(i)\n",
    "            except:\n",
    "                hash_table[i] = 1\n",
    "        return hash_table.popitem()[0]"
   ]
  },
  {
   "cell_type": "markdown",
   "id": "7ddcffc3",
   "metadata": {},
   "source": [
    "### Question 7"
   ]
  },
  {
   "cell_type": "markdown",
   "id": "d78da9bf",
   "metadata": {},
   "source": [
    "You are given an inclusive range [lower, upper] and a sorted unique integer array\n",
    "nums, where all elements are within the inclusive range.\n",
    "\n",
    "A number x is considered missing if x is in the range [lower, upper] and x is not in\n",
    "nums.\n",
    "\n",
    "Return the shortest sorted list of ranges that exactly covers all the missing\n",
    "numbers. That is, no element of nums is included in any of the ranges, and each\n",
    "missing number is covered by one of the ranges.\n",
    "\n",
    "Example 1:\n",
    "Input: nums = [0,1,3,50,75], lower = 0, upper = 99\n",
    "Output: [[2,2],[4,49],[51,74],[76,99]]\n",
    "\n",
    "Explanation: The ranges are:\n",
    "[2,2]\n",
    "[4,49]\n",
    "[51,74]\n",
    "[76,99]"
   ]
  },
  {
   "cell_type": "code",
   "execution_count": 40,
   "id": "d44dd8ed",
   "metadata": {},
   "outputs": [],
   "source": [
    "class Solution:\n",
    "    def summaryRanges(self, nums):\n",
    "\n",
    "        start = 0\n",
    "        end = 0\n",
    "\n",
    "        result = []\n",
    "\n",
    "        while start < len(nums) and end<len(nums):\n",
    "\n",
    "            if end+1 < len(nums) and nums[end]+1 == nums[end+1]:\n",
    "                end=end+1\n",
    "\n",
    "            else:\n",
    "                if start == end:\n",
    "                    result.append(str(nums[start]))\n",
    "                    start = start + 1\n",
    "                    end = end + 1\n",
    "                else:\n",
    "                    result.append(str(nums[start])+'->'+str(nums[end]))\n",
    "                    start = end + 1\n",
    "                    end = end + 1\n",
    "\n",
    "        return result"
   ]
  },
  {
   "cell_type": "code",
   "execution_count": null,
   "id": "26173757",
   "metadata": {},
   "outputs": [],
   "source": []
  },
  {
   "cell_type": "markdown",
   "id": "b3c098ef",
   "metadata": {},
   "source": [
    "### Question 8"
   ]
  },
  {
   "cell_type": "markdown",
   "id": "a52ebe4d",
   "metadata": {},
   "source": [
    "<aside>\n",
    "💡 **Question 8**\n",
    "Given an array of meeting time intervals where intervals[i] = [starti, endi],\n",
    "determine if a person could attend all meetings.\n",
    "\n",
    "**Example 1:**\n",
    "Input: intervals = [[0,30],[5,10],[15,20]]\n",
    "Output: false\n",
    "\n",
    "</aside>"
   ]
  },
  {
   "cell_type": "code",
   "execution_count": 42,
   "id": "0618d26d",
   "metadata": {},
   "outputs": [],
   "source": [
    "def canAttendMeetings(intervals):\n",
    "        \n",
    "    intervals.sort(key=lambda a: a.start)\n",
    "    for i in range(len(intervals)-1):\n",
    "        if intervals[i].end > intervals[i+1].start:\n",
    "            return False\n",
    "    return True"
   ]
  },
  {
   "cell_type": "code",
   "execution_count": null,
   "id": "42903478",
   "metadata": {},
   "outputs": [],
   "source": []
  }
 ],
 "metadata": {
  "kernelspec": {
   "display_name": "Python 3 (ipykernel)",
   "language": "python",
   "name": "python3"
  },
  "language_info": {
   "codemirror_mode": {
    "name": "ipython",
    "version": 3
   },
   "file_extension": ".py",
   "mimetype": "text/x-python",
   "name": "python",
   "nbconvert_exporter": "python",
   "pygments_lexer": "ipython3",
   "version": "3.10.9"
  }
 },
 "nbformat": 4,
 "nbformat_minor": 5
}

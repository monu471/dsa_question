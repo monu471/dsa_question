{
 "cells": [
  {
   "cell_type": "markdown",
   "id": "45778679",
   "metadata": {},
   "source": [
    "<aside>\n",
    "💡 1. **Roman to Integer**\n",
    "\n",
    "Roman numerals are represented by seven different symbols: `I`, `V`, `X`, `L`, `C`, `D` and `M`.\n",
    "\n",
    "```\n",
    "SymbolValue\n",
    "I             1\n",
    "V             5\n",
    "X             10\n",
    "L             50\n",
    "C             100\n",
    "D             500\n",
    "M             1000\n",
    "```\n",
    "\n",
    "For example, `2` is written as `II` in Roman numeral, just two ones added together. `12` is written as `XII`, which is simply `X + II`. The number `27` is written as `XXVII`, which is `XX + V + II`.\n",
    "\n",
    "Roman numerals are usually written largest to smallest from left to right. However, the numeral for four is not `IIII`. Instead, the number four is written as `IV`. Because the one is before the five we subtract it making four. The same principle applies to the number nine, which is written as `IX`. There are six instances where subtraction is used:\n",
    "\n",
    "- `I` can be placed before `V` (5) and `X` (10) to make 4 and 9.\n",
    "- `X` can be placed before `L` (50) and `C` (100) to make 40 and 90.\n",
    "- `C` can be placed before `D` (500) and `M` (1000) to make 400 and 900.\n",
    "\n",
    "Given a roman numeral, convert it to an integer.\n",
    "\n",
    "</aside>"
   ]
  },
  {
   "cell_type": "code",
   "execution_count": 1,
   "id": "3f53a7cc",
   "metadata": {},
   "outputs": [],
   "source": [
    "roman = {'I':1,'V':5,'X':10,'L':50,'C':100,'D':500,'M':1000}\n",
    "\n",
    "class Solution:\n",
    "    def romanToInt(self, S: str) -> int:\n",
    "        ans = 0\n",
    "        for i in range(len(S)-1,-1,-1):\n",
    "            num = roman[S[i]]\n",
    "            if 4 * num < ans: ans -= num\n",
    "            else: ans += num\n",
    "        return ans"
   ]
  },
  {
   "cell_type": "code",
   "execution_count": 2,
   "id": "b52820b4",
   "metadata": {},
   "outputs": [],
   "source": [
    "c = Solution()"
   ]
  },
  {
   "cell_type": "code",
   "execution_count": 4,
   "id": "86b845d0",
   "metadata": {},
   "outputs": [
    {
     "data": {
      "text/plain": [
       "58"
      ]
     },
     "execution_count": 4,
     "metadata": {},
     "output_type": "execute_result"
    }
   ],
   "source": [
    "c.romanToInt(\"LVIII\")"
   ]
  },
  {
   "cell_type": "markdown",
   "id": "b7a4a424",
   "metadata": {},
   "source": [
    "<aside>\n",
    "💡 2. **Longest Substring Without Repeating Characters**\n",
    "\n",
    "Given a string `s`, find the length of the **longest substring** without repeating characters.\n",
    "\n",
    "</aside>"
   ]
  },
  {
   "cell_type": "code",
   "execution_count": 2,
   "id": "3458ab8c",
   "metadata": {},
   "outputs": [],
   "source": [
    "class Solution:\n",
    "    def lengthOfLongestSubstring(self, s: str) -> int:\n",
    "        test = \"\"\n",
    "        # Result\n",
    "        max_length = 0\n",
    "        \n",
    "        # Return zero or 1 if string is empty or only 1 length\n",
    "        if len(s) == 0 or len(s) == 1:\n",
    "            return len(s)\n",
    "        \n",
    "        for c in s:\n",
    "            # If string already contains the character\n",
    "            # Then substring after repeating character\n",
    "            if c in test:\n",
    "                test = test[test.index(c)+1:]\n",
    "            test = test + c\n",
    "            if max_length < len(test):\n",
    "                max_length = len(test)\n",
    "        return max_length"
   ]
  },
  {
   "cell_type": "code",
   "execution_count": 3,
   "id": "cf1bfa00",
   "metadata": {},
   "outputs": [],
   "source": [
    "a = Solution()"
   ]
  },
  {
   "cell_type": "code",
   "execution_count": 4,
   "id": "952824f5",
   "metadata": {},
   "outputs": [
    {
     "data": {
      "text/plain": [
       "3"
      ]
     },
     "execution_count": 4,
     "metadata": {},
     "output_type": "execute_result"
    }
   ],
   "source": [
    "a.lengthOfLongestSubstring(\"pwwkew\")"
   ]
  },
  {
   "cell_type": "markdown",
   "id": "c58cff7f",
   "metadata": {},
   "source": [
    "<aside>\n",
    "💡 3. **Majority Element**\n",
    "\n",
    "Given an array `nums` of size `n`, return *the majority element*.\n",
    "\n",
    "The majority element is the element that appears more than `⌊n / 2⌋` times. You may assume that the majority element always exists in the array.\n",
    "\n",
    "</aside>"
   ]
  },
  {
   "cell_type": "code",
   "execution_count": 1,
   "id": "cadc0ca9",
   "metadata": {},
   "outputs": [
    {
     "name": "stdout",
     "output_type": "stream",
     "text": [
      "1\n"
     ]
    }
   ],
   "source": [
    "# Python3 program to find Majority\n",
    "# element in an array\n",
    "\n",
    "# Function to find Majority element\n",
    "# in an array\n",
    "# it returns -1 if there is no majority element\n",
    "def majorityElement(arr, n) :\n",
    "\n",
    "    # sort the array in O(nlogn)\n",
    "    arr.sort()\n",
    "    count, max_ele, temp, f = 1, -1, arr[0], 0\n",
    "    for i in range(1, n) :\n",
    "\n",
    "        # increases the count if the same element occurs\n",
    "        # otherwise starts counting new element\n",
    "        if(temp == arr[i]) :\n",
    "            count += 1\n",
    "        else :\n",
    "            count = 1\n",
    "            temp = arr[i]\n",
    "\n",
    "        # sets maximum count\n",
    "        # and stores maximum occurred element so far\n",
    "        # if maximum count becomes greater than n/2\n",
    "        # it breaks out setting the flag\n",
    "        if(max_ele < count) :\n",
    "            max_ele = count\n",
    "            ele = arr[i]\n",
    "\n",
    "            if(max_ele > (n//2)) :\n",
    "                f = 1\n",
    "                break\n",
    "\n",
    "    # returns maximum occurred element\n",
    "    # if there is no such element, returns -1\n",
    "    if f == 1 :\n",
    "        return ele\n",
    "    else :\n",
    "        return -1\n",
    "\n",
    "# Driver code\n",
    "arr = [1, 1, 2, 1, 3, 5, 1]\n",
    "n = len(arr)\n",
    "\n",
    "# Function calling\n",
    "print(majorityElement(arr, n))\n",
    "\n",
    "\n"
   ]
  },
  {
   "cell_type": "markdown",
   "id": "0c949aad",
   "metadata": {},
   "source": [
    "<aside>\n",
    "💡 4. **Group Anagram**\n",
    "\n",
    "Given an array of strings `strs`, group **the anagrams** together. You can return the answer in **any order**.\n",
    "\n",
    "An **Anagram** is a word or phrase formed by rearranging the letters of a different word or phrase, typically using all the original letters exactly once.\n",
    "\n",
    "**Example 1:**\n",
    "\n",
    "</aside>"
   ]
  },
  {
   "cell_type": "code",
   "execution_count": 6,
   "id": "6a51fe1a",
   "metadata": {},
   "outputs": [],
   "source": [
    "from typing import List"
   ]
  },
  {
   "cell_type": "code",
   "execution_count": 7,
   "id": "970888ae",
   "metadata": {},
   "outputs": [],
   "source": [
    "class Solution:\n",
    "    def groupAnagrams(self, strs: List[str]) -> List[List[str]]:\n",
    "        strs_table = {}\n",
    "\n",
    "        for string in strs:\n",
    "            sorted_string = ''.join(sorted(string))\n",
    "\n",
    "            if sorted_string not in strs_table:\n",
    "                strs_table[sorted_string] = []\n",
    "\n",
    "            strs_table[sorted_string].append(string)\n",
    "\n",
    "        return list(strs_table.values())"
   ]
  },
  {
   "cell_type": "code",
   "execution_count": 8,
   "id": "cfbb8a32",
   "metadata": {},
   "outputs": [],
   "source": [
    "t = Solution()"
   ]
  },
  {
   "cell_type": "code",
   "execution_count": 9,
   "id": "5d96f8df",
   "metadata": {},
   "outputs": [
    {
     "data": {
      "text/plain": [
       "[['eat', 'tea', 'ate'], ['tan', 'nat'], ['bat']]"
      ]
     },
     "execution_count": 9,
     "metadata": {},
     "output_type": "execute_result"
    }
   ],
   "source": [
    "t.groupAnagrams( [\"eat\",\"tea\",\"tan\",\"ate\",\"nat\",\"bat\"])"
   ]
  },
  {
   "cell_type": "markdown",
   "id": "15dcd74d",
   "metadata": {},
   "source": [
    "<aside>\n",
    "💡 5. **Ugly Numbers**\n",
    "\n",
    "An **ugly number** is a positive integer whose prime factors are limited to `2`, `3`, and `5`.\n",
    "\n",
    "Given an integer `n`, return *the* `nth` ***ugly number***.\n",
    "\n",
    "</aside>"
   ]
  },
  {
   "cell_type": "code",
   "execution_count": 12,
   "id": "dae8584d",
   "metadata": {},
   "outputs": [
    {
     "name": "stdout",
     "output_type": "stream",
     "text": [
      "ugly no. is  12\n"
     ]
    }
   ],
   "source": [
    "# Python3 code to find nth ugly number\n",
    "\n",
    "# This function divides a by greatest\n",
    "# divisible power of b\n",
    "\n",
    "\n",
    "def maxDivide(a, b):\n",
    "    while a % b == 0:\n",
    "        a = a / b\n",
    "    return a\n",
    "\n",
    "# Function to check if a number\n",
    "# is ugly or not\n",
    "def isUgly(no):\n",
    "    no = maxDivide(no, 2)\n",
    "    no = maxDivide(no, 3)\n",
    "    no = maxDivide(no, 5)\n",
    "    return 1 if no == 1 else 0\n",
    "\n",
    "# Function to get the nth ugly number\n",
    "def getNthUglyNo(n):\n",
    "    i = 1\n",
    "\n",
    "    # ugly number count\n",
    "    count = 1\n",
    "\n",
    "    # Check for all integers until\n",
    "    # ugly count becomes n\n",
    "    while n > count:\n",
    "        i += 1\n",
    "        if isUgly(i):\n",
    "            count += 1\n",
    "    return i\n",
    "\n",
    "\n",
    "# Driver code\n",
    "\n",
    "no = getNthUglyNo(10)\n",
    "print(\"ugly no. is \", no)\n",
    "\n"
   ]
  },
  {
   "cell_type": "markdown",
   "id": "e2bdee05",
   "metadata": {},
   "source": [
    "<aside>\n",
    "💡 6. **Top K Frequent Words**\n",
    "\n",
    "Given an array of strings `words` and an integer `k`, return *the* `k` *most frequent strings*.\n",
    "\n",
    "Return the answer **sorted** by **the frequency** from highest to lowest. Sort the words with the same frequency by their **lexicographical order**.\n",
    "\n",
    "</aside>"
   ]
  },
  {
   "cell_type": "code",
   "execution_count": 13,
   "id": "33cfac9a",
   "metadata": {},
   "outputs": [],
   "source": [
    "def topKFrequent(self, words: List[str], k: int) -> List[str]:\n",
    "        dict = {}\n",
    "        for x in words:\n",
    "            if x in dict:\n",
    "                dict[x] += 1\n",
    "            else:\n",
    "                dict[x] = 1\n",
    "        res = sorted(dict, key=lambda x: (-dict[x], x))\n",
    "        return res[:k]"
   ]
  },
  {
   "cell_type": "markdown",
   "id": "d43987aa",
   "metadata": {},
   "source": [
    "<aside>\n",
    "💡 7. **Sliding Window Maximum**\n",
    "\n",
    "You are given an array of integers `nums`, there is a sliding window of size `k` which is moving from the very left of the array to the very right. You can only see the `k` numbers in the window. Each time the sliding window moves right by one position.\n",
    "\n",
    "Return *the max sliding window*.\n",
    "\n",
    "**Example 1:**\n",
    "\n",
    "</aside>"
   ]
  },
  {
   "cell_type": "code",
   "execution_count": 14,
   "id": "477e1961",
   "metadata": {},
   "outputs": [
    {
     "name": "stdout",
     "output_type": "stream",
     "text": [
      "3 4 5 6 7 8 9 10 "
     ]
    }
   ],
   "source": [
    "# Python3 program for the above approach\n",
    "\n",
    "# Method to find the maximum for each\n",
    "# and every contiguous subarray\n",
    "# of size K\n",
    "\n",
    "def printMax(arr, N, K):\n",
    "    max = 0\n",
    "\n",
    "    for i in range(N - K + 1):\n",
    "        max = arr[i]\n",
    "        for j in range(1, K):\n",
    "            if arr[i + j] > max:\n",
    "                max = arr[i + j]\n",
    "        print(str(max) + \" \", end=\"\")\n",
    "\n",
    "\n",
    "# Driver's code\n",
    "if __name__ == \"__main__\":\n",
    "    arr = [1, 2, 3, 4, 5, 6, 7, 8, 9, 10]\n",
    "    N = len(arr)\n",
    "    K = 3\n",
    "\n",
    "    # Function call\n",
    "    printMax(arr, N, K)\n",
    "\n"
   ]
  },
  {
   "cell_type": "markdown",
   "id": "0326d0b9",
   "metadata": {},
   "source": [
    "<aside>\n",
    "💡 8. **Find K Closest Elements**\n",
    "\n",
    "Given a **sorted** integer array `arr`, two integers `k` and `x`, return the `k` closest integers to `x` in the array. The result should also be sorted in ascending order.\n",
    "\n",
    "An integer `a` is closer to `x` than an integer `b` if:\n",
    "\n",
    "- `|a - x| < |b - x|`, or\n",
    "- `|a - x| == |b - x|` and `a < b`\n",
    "</aside>"
   ]
  },
  {
   "cell_type": "code",
   "execution_count": 15,
   "id": "fb84b4f9",
   "metadata": {},
   "outputs": [
    {
     "name": "stdout",
     "output_type": "stream",
     "text": [
      "39 30 42 45 "
     ]
    }
   ],
   "source": [
    "# Function to find the cross over point\n",
    "# (the point before which elements are\n",
    "# smaller than or equal to x and after\n",
    "# which greater than x)\n",
    "def findCrossOver(arr, low, high, x) :\n",
    "\n",
    "    # Base cases\n",
    "    if (arr[high] <= x) : # x is greater than all\n",
    "        return high\n",
    "\n",
    "    if (arr[low] > x) : # x is smaller than all\n",
    "        return low\n",
    "\n",
    "    # Find the middle point\n",
    "    mid = (low + high) // 2 # low + (high - low)// 2\n",
    "\n",
    "    # If x is same as middle element,\n",
    "    # then return mid\n",
    "    if (arr[mid] <= x and arr[mid + 1] > x) :\n",
    "        return mid\n",
    "\n",
    "    # If x is greater than arr[mid], then\n",
    "    # either arr[mid + 1] is ceiling of x\n",
    "    # or ceiling lies in arr[mid+1...high]\n",
    "    if(arr[mid] < x) :\n",
    "        return findCrossOver(arr, mid + 1, high, x)\n",
    "\n",
    "    return findCrossOver(arr, low, mid - 1, x)\n",
    "\n",
    "# This function prints k closest elements to x\n",
    "# in arr[]. n is the number of elements in arr[]\n",
    "def printKclosest(arr, x, k, n) :\n",
    "\n",
    "    # Find the crossover point\n",
    "    l = findCrossOver(arr, 0, n - 1, x)\n",
    "    r = l + 1 # Right index to search\n",
    "    count = 0 # To keep track of count of\n",
    "            # elements already printed\n",
    "\n",
    "    # If x is present in arr[], then reduce\n",
    "    # left index. Assumption: all elements\n",
    "    # in arr[] are distinct\n",
    "    if (arr[l] == x) :\n",
    "        l -= 1\n",
    "\n",
    "    # Compare elements on left and right of crossover\n",
    "    # point to find the k closest elements\n",
    "    while (l >= 0 and r < n and count < k) :\n",
    "\n",
    "        if (x - arr[l] < arr[r] - x) :\n",
    "            print(arr[l], end = \" \")\n",
    "            l -= 1\n",
    "        else :\n",
    "            print(arr[r], end = \" \")\n",
    "            r += 1\n",
    "        count += 1\n",
    "\n",
    "    # If there are no more elements on right\n",
    "    # side, then print left elements\n",
    "    while (count < k and l >= 0) :\n",
    "        print(arr[l], end = \" \")\n",
    "        l -= 1\n",
    "        count += 1\n",
    "\n",
    "    # If there are no more elements on left\n",
    "    # side, then print right elements\n",
    "    while (count < k and r < n) :\n",
    "        print(arr[r], end = \" \")\n",
    "        r += 1\n",
    "        count += 1\n",
    "\n",
    "# Driver Code\n",
    "if __name__ == \"__main__\" :\n",
    "\n",
    "    arr =[12, 16, 22, 30, 35, 39, 42,\n",
    "            45, 48, 50, 53, 55, 56]\n",
    "\n",
    "    n = len(arr)\n",
    "    x = 35\n",
    "    k = 4\n",
    "\n",
    "    printKclosest(arr, x, 4, n)\n",
    "\n",
    "\n"
   ]
  },
  {
   "cell_type": "code",
   "execution_count": null,
   "id": "b30ba207",
   "metadata": {},
   "outputs": [],
   "source": []
  }
 ],
 "metadata": {
  "kernelspec": {
   "display_name": "Python 3 (ipykernel)",
   "language": "python",
   "name": "python3"
  },
  "language_info": {
   "codemirror_mode": {
    "name": "ipython",
    "version": 3
   },
   "file_extension": ".py",
   "mimetype": "text/x-python",
   "name": "python",
   "nbconvert_exporter": "python",
   "pygments_lexer": "ipython3",
   "version": "3.10.9"
  }
 },
 "nbformat": 4,
 "nbformat_minor": 5
}

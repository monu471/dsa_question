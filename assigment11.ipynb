{
 "cells": [
  {
   "cell_type": "markdown",
   "id": "9dcfa6c4",
   "metadata": {},
   "source": [
    "<aside>\n",
    "💡 **Question 1**\n",
    "\n",
    "Given a non-negative integer `x`, return *the square root of* `x` *rounded down to the nearest integer*. The returned integer should be **non-negative** as well.\n",
    "\n",
    "You **must not use** any built-in exponent function or operator.\n",
    "\n",
    "- For example, do not use `pow(x, 0.5)` in c++ or `x ** 0.5` in python.\n",
    "</aside>"
   ]
  },
  {
   "cell_type": "code",
   "execution_count": 1,
   "id": "712e6c81",
   "metadata": {},
   "outputs": [],
   "source": [
    "def mySqrt(x):\n",
    "    if x == 0:\n",
    "        return 0\n",
    "\n",
    "    left, right = 1, x\n",
    "    while left <= right:\n",
    "        mid = left + (right - left) // 2\n",
    "        if mid * mid > x:\n",
    "            right = mid - 1\n",
    "        else:\n",
    "            left = mid + 1\n",
    "    return left - 1\n"
   ]
  },
  {
   "cell_type": "markdown",
   "id": "e02bf20a",
   "metadata": {},
   "source": [
    "<aside>\n",
    "💡 **Question 2**\n",
    "\n",
    "A peak element is an element that is strictly greater than its neighbors.\n",
    "\n",
    "Given a **0-indexed** integer array `nums`, find a peak element, and return its index. If the array contains multiple peaks, return the index to **any of the peaks**.\n",
    "\n",
    "You may imagine that `nums[-1] = nums[n] = -∞`. In other words, an element is always considered to be strictly greater than a neighbor that is outside the array.\n",
    "\n",
    "You must write an algorithm that runs in `O(log n)` time.\n",
    "\n",
    "**Example 1:**\n",
    "\n",
    "</aside>"
   ]
  },
  {
   "cell_type": "code",
   "execution_count": 2,
   "id": "5c4a18a0",
   "metadata": {},
   "outputs": [],
   "source": [
    "def findPeakElement(nums):\n",
    "    left, right = 0, len(nums) - 1\n",
    "\n",
    "    while left < right:\n",
    "        mid = left + (right - left) // 2\n",
    "\n",
    "        if nums[mid] < nums[mid + 1]:\n",
    "            left = mid + 1\n",
    "        else:\n",
    "            right = mid\n",
    "\n",
    "    return left\n"
   ]
  },
  {
   "cell_type": "markdown",
   "id": "f1ee13e9",
   "metadata": {},
   "source": [
    "Given an array nums containing n distinct numbers in the range [0, n], return the only number in the range that is missing from the array."
   ]
  },
  {
   "cell_type": "code",
   "execution_count": null,
   "id": "7240a0d9",
   "metadata": {},
   "outputs": [],
   "source": [
    "def missingNumber(nums):\n",
    "    missing = len(nums)  # Initialize missing as the last possible number\n",
    "\n",
    "    for i in range(len(nums)):\n",
    "        missing ^= i ^ nums[i]  # XOR each index and value in nums with missing\n",
    "\n",
    "    return missing\n"
   ]
  },
  {
   "cell_type": "markdown",
   "id": "d4f18ce6",
   "metadata": {},
   "source": [
    "<aside>\n",
    "💡 **Question 4**\n",
    "\n",
    "Given an array of integers `nums` containing `n + 1` integers where each integer is in the range `[1, n]` inclusive.\n",
    "\n",
    "There is only **one repeated number** in `nums`, return *this repeated number*.\n",
    "\n",
    "You must solve the problem **without** modifying the array `nums` and uses only constant extra space.\n",
    "\n",
    "</aside>"
   ]
  },
  {
   "cell_type": "code",
   "execution_count": 3,
   "id": "d7284b5c",
   "metadata": {},
   "outputs": [],
   "source": [
    "def findDuplicate(nums):\n",
    "    slow = nums[0]  # Tortoise starts from the first element\n",
    "    fast = nums[0]  # Hare starts from the first element\n",
    "\n",
    "    # Move slow by one step and fast by two steps until they meet\n",
    "    while True:\n",
    "        slow = nums[slow]  # Move slow by one step\n",
    "        fast = nums[nums[fast]]  # Move fast by two steps\n",
    "\n",
    "        if slow == fast:\n",
    "            break\n",
    "\n",
    "    # Move slow back to the first element and move both slow and fast by one step until they meet\n",
    "    slow = nums[0]\n",
    "    while slow != fast:\n",
    "        slow = nums[slow]  # Move slow by one step\n",
    "        fast = nums[fast]  # Move fast by one step\n",
    "\n",
    "    return slow  # Return the repeated number\n"
   ]
  },
  {
   "cell_type": "markdown",
   "id": "9ba3e73a",
   "metadata": {},
   "source": [
    "<aside>\n",
    "💡 **Question 5**\n",
    "\n",
    "Given two integer arrays `nums1` and `nums2`, return *an array of their intersection*. Each element in the result must be **unique** and you may return the result in **any order**.\n",
    "\n",
    "**Example 1:**\n",
    "\n",
    "</aside>"
   ]
  },
  {
   "cell_type": "code",
   "execution_count": 4,
   "id": "83a98873",
   "metadata": {},
   "outputs": [],
   "source": [
    "def intersection(nums1, nums2):\n",
    "    set1 = set(nums1)  # Convert nums1 to a set\n",
    "    intersection_set = set()\n",
    "\n",
    "    # Iterate through nums2 and check for intersection with set1\n",
    "    for num in nums2:\n",
    "        if num in set1:\n",
    "            intersection_set.add(num)\n",
    "\n",
    "    return list(intersection_set)  # Convert the set to a list and return\n",
    "\n"
   ]
  },
  {
   "cell_type": "markdown",
   "id": "fd49f11c",
   "metadata": {},
   "source": [
    "<aside>\n",
    "💡 **Question 6**\n",
    "\n",
    "Suppose an array of length `n` sorted in ascending order is **rotated** between `1` and `n` times. For example, the array `nums = [0,1,2,4,5,6,7]` might become:\n",
    "\n",
    "- `[4,5,6,7,0,1,2]` if it was rotated `4` times.\n",
    "- `[0,1,2,4,5,6,7]` if it was rotated `7` times.\n",
    "\n",
    "Notice that **rotating** an array `[a[0], a[1], a[2], ..., a[n-1]]` 1 time results in the array `[a[n-1], a[0], a[1], a[2], ..., a[n-2]]`.\n",
    "\n",
    "Given the sorted rotated array `nums` of **unique** elements, return *the minimum element of this array*.\n",
    "\n",
    "You must write an algorithm that runs in `O(log n) time.`\n",
    "\n",
    "</aside>"
   ]
  },
  {
   "cell_type": "code",
   "execution_count": 6,
   "id": "fda29238",
   "metadata": {},
   "outputs": [],
   "source": [
    "def findMin(nums):\n",
    "    left, right = 0, len(nums) - 1\n",
    "\n",
    "    # If the array is not rotated, return the first element\n",
    "    if nums[left] <= nums[right]:\n",
    "        return nums[left]\n",
    "\n",
    "    while left < right:\n",
    "        mid = left + (right - left) // 2\n",
    "\n",
    "        # Check if mid is the minimum element\n",
    "        if nums[mid] > nums[mid + 1]:\n",
    "            return nums[mid + 1]\n",
    "\n",
    "        # Check which half to search\n",
    "        if nums[mid] >= nums[left]:\n",
    "            left = mid + 1\n",
    "        else:\n",
    "            right = mid\n",
    "\n",
    "    return nums[left]\n"
   ]
  },
  {
   "cell_type": "markdown",
   "id": "57d45517",
   "metadata": {},
   "source": [
    "<aside>\n",
    "💡 **Question 7**\n",
    "\n",
    "Given an array of integers `nums` sorted in non-decreasing order, find the starting and ending position of a given `target` value.\n",
    "\n",
    "If `target` is not found in the array, return `[-1, -1]`.\n",
    "\n",
    "You must write an algorithm with `O(log n)` runtime complexity.\n",
    "\n",
    "</aside>"
   ]
  },
  {
   "cell_type": "code",
   "execution_count": 8,
   "id": "6f56164d",
   "metadata": {},
   "outputs": [],
   "source": [
    "class Solution:\n",
    "    def searchInsert(self, nums, target):\n",
    "        low, high = 0, len(nums)\n",
    "        while low < high:\n",
    "            mid = (low + high) // 2\n",
    "            if target > nums[mid]:\n",
    "                low = mid + 1\n",
    "            else:\n",
    "                high = mid\n",
    "        return low"
   ]
  },
  {
   "cell_type": "markdown",
   "id": "fb0ddb6d",
   "metadata": {},
   "source": [
    "<aside>\n",
    "💡 **Question 8**\n",
    "\n",
    "Given two integer arrays `nums1` and `nums2`, return *an array of their intersection*. Each element in the result must appear as many times as it shows in both arrays and you may return the result in **any order**.\n",
    "\n",
    "**Example 1:**\n",
    "\n",
    "</aside>"
   ]
  },
  {
   "cell_type": "code",
   "execution_count": 17,
   "id": "2ac44bb6",
   "metadata": {},
   "outputs": [],
   "source": [
    "class Solution:\n",
    "    def intersect(self, nums1, nums2):\n",
    "        \n",
    "        nums1.sort()\n",
    "        nums2.sort()\n",
    "        \n",
    "        \n",
    "        one=0\n",
    "        two=0\n",
    "        \n",
    "        ans=[]\n",
    "        \n",
    "        while one < len(nums1) and two < len(nums2):\n",
    "            \n",
    "            if nums1[one] < nums2[two]:\n",
    "                one+=1\n",
    "            elif nums2[two] < nums1[one]:\n",
    "                two+=1\n",
    "            else:\n",
    "                \n",
    "                ans.append(nums1[one])\n",
    "                one+=1\n",
    "                two+=1\n",
    "        return ans"
   ]
  },
  {
   "cell_type": "code",
   "execution_count": 20,
   "id": "5b930c52",
   "metadata": {},
   "outputs": [],
   "source": [
    "nums1 = [4,9,5] \n",
    "nums2 = [9,4,9,8,4]\n",
    "# Output: [4,9]\n",
    "# Explanation: [9,4] is also accepted."
   ]
  },
  {
   "cell_type": "code",
   "execution_count": 21,
   "id": "ad0f4d52",
   "metadata": {},
   "outputs": [
    {
     "data": {
      "text/plain": [
       "[4, 9]"
      ]
     },
     "execution_count": 21,
     "metadata": {},
     "output_type": "execute_result"
    }
   ],
   "source": [
    "a = Solution()\n",
    "a.intersect(nums1,nums2)"
   ]
  },
  {
   "cell_type": "code",
   "execution_count": null,
   "id": "11a57eba",
   "metadata": {},
   "outputs": [],
   "source": []
  },
  {
   "cell_type": "code",
   "execution_count": null,
   "id": "51121f3e",
   "metadata": {},
   "outputs": [],
   "source": []
  }
 ],
 "metadata": {
  "kernelspec": {
   "display_name": "Python 3 (ipykernel)",
   "language": "python",
   "name": "python3"
  },
  "language_info": {
   "codemirror_mode": {
    "name": "ipython",
    "version": 3
   },
   "file_extension": ".py",
   "mimetype": "text/x-python",
   "name": "python",
   "nbconvert_exporter": "python",
   "pygments_lexer": "ipython3",
   "version": "3.10.9"
  }
 },
 "nbformat": 4,
 "nbformat_minor": 5
}

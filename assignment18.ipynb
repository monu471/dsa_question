{
 "cells": [
  {
   "cell_type": "markdown",
   "id": "0dcaf429",
   "metadata": {},
   "source": [
    "<aside>\n",
    "💡 1. **Merge Intervals**\n",
    "\n",
    "Given an array of `intervals` where `intervals[i] = [starti, endi]`, merge all overlapping intervals, and return *an array of the non-overlapping intervals that cover all the intervals in the input*.\n",
    "\n",
    "</aside>"
   ]
  },
  {
   "cell_type": "code",
   "execution_count": 1,
   "id": "f2f95e66",
   "metadata": {},
   "outputs": [
    {
     "name": "stdout",
     "output_type": "stream",
     "text": [
      "The Merged Intervals are : [1, 9] "
     ]
    }
   ],
   "source": [
    "def mergeIntervals(intervals):\n",
    "    # Sort the array on the basis of start values of intervals.\n",
    "    intervals.sort()\n",
    "    stack = []\n",
    "    # insert first interval into stack\n",
    "    stack.append(intervals[0])\n",
    "    for i in intervals[1:]:\n",
    "        # Check for overlapping interval,\n",
    "        # if interval overlap\n",
    "        if stack[-1][0] <= i[0] <= stack[-1][-1]:\n",
    "            stack[-1][-1] = max(stack[-1][-1], i[-1])\n",
    "        else:\n",
    "            stack.append(i)\n",
    "\n",
    "    print(\"The Merged Intervals are :\", end=\" \")\n",
    "    for i in range(len(stack)):\n",
    "        print(stack[i], end=\" \")\n",
    "\n",
    "\n",
    "arr = [[6, 8], [1, 9], [2, 4], [4, 7]]\n",
    "mergeIntervals(arr)\n"
   ]
  },
  {
   "cell_type": "markdown",
   "id": "6780a469",
   "metadata": {},
   "source": [
    "<aside>\n",
    "💡 2. **Sort Colors**\n",
    "\n",
    "Given an array `nums` with `n` objects colored red, white, or blue, sort them **[in-place](https://en.wikipedia.org/wiki/In-place_algorithm)** so that objects of the same color are adjacent, with the colors in the order red, white, and blue.\n",
    "\n",
    "We will use the integers `0`, `1`, and `2` to represent the color red, white, and blue, respectively.\n",
    "\n",
    "You must solve this problem without using the library's sort function.\n",
    "\n",
    "</aside>"
   ]
  },
  {
   "cell_type": "code",
   "execution_count": 10,
   "id": "ae4f649a",
   "metadata": {},
   "outputs": [],
   "source": [
    "class Solution:\n",
    "    def sortColors(self, a) -> None:\n",
    "        \"\"\"\n",
    "        Do not return anything, modify nums in-place instead.\n",
    "        \"\"\"\n",
    "        runner = 0\n",
    "        left_partition = 0\n",
    "        right_partition = len(a) - 1\n",
    "        while runner <= right_partition:\n",
    "            if a[runner] == 0:\n",
    "                a[runner], a[left_partition] = a[left_partition], a[runner]\n",
    "                runner += 1\n",
    "                left_partition += 1\n",
    "            elif a[runner] == 1:\n",
    "                runner += 1\n",
    "            else:\n",
    "                a[runner], a[right_partition] = a[right_partition], a[runner]\n",
    "                right_partition -= 1\n",
    "        return a"
   ]
  },
  {
   "cell_type": "code",
   "execution_count": 11,
   "id": "40ec8af8",
   "metadata": {},
   "outputs": [
    {
     "data": {
      "text/plain": [
       "[0, 0, 1, 1, 2, 2]"
      ]
     },
     "execution_count": 11,
     "metadata": {},
     "output_type": "execute_result"
    }
   ],
   "source": [
    "a = Solution()\n",
    "nums = [2,0,2,1,1,0]\n",
    "a.sortColors(nums)\n"
   ]
  },
  {
   "cell_type": "markdown",
   "id": "24fff149",
   "metadata": {},
   "source": [
    "<aside>\n",
    "💡 3. **First Bad Version Solution**\n",
    "\n",
    "You are a product manager and currently leading a team to develop a new product. Unfortunately, the latest version of your product fails the quality check. Since each version is developed based on the previous version, all the versions after a bad version are also bad.\n",
    "\n",
    "Suppose you have `n` versions `[1, 2, ..., n]` and you want to find out the first bad one, which causes all the following ones to be bad.\n",
    "\n",
    "You are given an API `bool isBadVersion(version)` which returns whether `version` is bad. Implement a function to find the first bad version. You should minimize the number of calls to the API.\n",
    "\n",
    "</aside>"
   ]
  },
  {
   "cell_type": "code",
   "execution_count": 18,
   "id": "b5786b51",
   "metadata": {},
   "outputs": [
    {
     "name": "stdout",
     "output_type": "stream",
     "text": [
      "The first bad version is: 5\n"
     ]
    }
   ],
   "source": [
    "def isBadVersion(version):\n",
    "    # This is the API function provided\n",
    "    # Returns True if the version is bad, False otherwise\n",
    "    pass\n",
    "\n",
    "def firstBadVersion(n):\n",
    "    left = 1\n",
    "    right = n\n",
    "\n",
    "    while left < right:\n",
    "        mid = left + (right - left) // 2  # Calculate the middle version\n",
    "\n",
    "        if isBadVersion(mid):  # If the middle version is bad\n",
    "            right = mid  # Move the right pointer to mid\n",
    "        else:\n",
    "            left = mid + 1  # Move the left pointer to mid + 1\n",
    "\n",
    "    return left  # left pointer will point to the first bad version\n",
    "\n",
    "# Example usage:\n",
    "n = 5\n",
    "first_bad = firstBadVersion(n)\n",
    "print(\"The first bad version is:\", first_bad)\n"
   ]
  },
  {
   "cell_type": "markdown",
   "id": "3b646923",
   "metadata": {},
   "source": [
    "<aside>\n",
    "💡 4. **Maximum Gap**\n",
    "\n",
    "Given an integer array `nums`, return *the maximum difference between two successive elements in its sorted form*. If the array contains less than two elements, return `0`.\n",
    "\n",
    "You must write an algorithm that runs in linear time and uses linear extra space.\n",
    "\n",
    "**Example 1:**\n",
    "\n",
    "</aside>"
   ]
  },
  {
   "cell_type": "code",
   "execution_count": 20,
   "id": "33a65bc1",
   "metadata": {},
   "outputs": [],
   "source": [
    "class Solution:\n",
    "    def maximumGap(self, nums):\n",
    "        nums=sorted(nums)\n",
    "        min=float(\"-inf\")\n",
    "        if len(nums)<2:\n",
    "            return 0\n",
    "        for i in range(len(nums)-1):\n",
    "            x=abs(nums[i]-nums[i+1])\n",
    "            if min<x:\n",
    "                min=x\n",
    "        return min"
   ]
  },
  {
   "cell_type": "markdown",
   "id": "daacf9b3",
   "metadata": {},
   "source": [
    "<aside>\n",
    "💡 5. **Contains Duplicate**\n",
    "\n",
    "Given an integer array `nums`, return `true` if any value appears **at least twice** in the array, and return `false` if every element is distinct.\n",
    "\n",
    "**Example 1:**\n",
    "\n",
    "</aside>"
   ]
  },
  {
   "cell_type": "code",
   "execution_count": 21,
   "id": "893f4a76",
   "metadata": {},
   "outputs": [],
   "source": [
    "# Time complexity: O(n)\n",
    "# Space complexity: O(n)\n",
    "class Solution(object):\n",
    "    def containsDuplicate(self, nums):\n",
    "        hset = set()\n",
    "        for idx in nums:\n",
    "            if idx in hset:\n",
    "                return True\n",
    "            else:\n",
    "                hset.add(idx)"
   ]
  },
  {
   "cell_type": "markdown",
   "id": "2acfc3c0",
   "metadata": {},
   "source": [
    "<aside>\n",
    "💡 6. **Minimum Number of Arrows to Burst Balloons**\n",
    "\n",
    "There are some spherical balloons taped onto a flat wall that represents the XY-plane. The balloons are represented as a 2D integer array `points` where `points[i] = [xstart, xend]` denotes a balloon whose **horizontal diameter** stretches between `xstart` and `xend`. You do not know the exact y-coordinates of the balloons.\n",
    "\n",
    "Arrows can be shot up **directly vertically** (in the positive y-direction) from different points along the x-axis. A balloon with `xstart` and `xend` is **burst** by an arrow shot at `x` if `xstart <= x <= xend`. There is **no limit** to the number of arrows that can be shot. A shot arrow keeps traveling up infinitely, bursting any balloons in its path.\n",
    "\n",
    "Given the array `points`, return *the **minimum** number of arrows that must be shot to burst all balloons*.\n",
    "\n",
    "</aside>"
   ]
  },
  {
   "cell_type": "code",
   "execution_count": 22,
   "id": "aac1765b",
   "metadata": {},
   "outputs": [],
   "source": [
    "class Solution:\n",
    "    def findMinArrowShots(self, points):\n",
    "\n",
    "        points.sort(key = lambda x: x[1])      \n",
    "                                               \n",
    "        tally, bow = 1, points[0][1]\n",
    "                                               \n",
    "        for start, end in points:              \n",
    "            if bow < start:                   \n",
    "                bow = end                      \n",
    "                tally += 1                    \n",
    "                                                  \n",
    "        return tally          "
   ]
  },
  {
   "cell_type": "code",
   "execution_count": 23,
   "id": "75217cf5",
   "metadata": {},
   "outputs": [
    {
     "data": {
      "text/plain": [
       "2"
      ]
     },
     "execution_count": 23,
     "metadata": {},
     "output_type": "execute_result"
    }
   ],
   "source": [
    "c = Solution()\n",
    "c.findMinArrowShots([[10,16],[2,8],[1,6],[7,12]])"
   ]
  },
  {
   "cell_type": "markdown",
   "id": "b1dadc68",
   "metadata": {},
   "source": [
    "<aside>\n",
    "💡 7. **Longest Increasing Subsequence**\n",
    "\n",
    "Given an integer array `nums`, return *the length of the longest **strictly increasing***\n",
    "\n",
    "***subsequence***\n",
    "\n",
    ".\n",
    "\n",
    "</aside>"
   ]
  },
  {
   "cell_type": "code",
   "execution_count": 24,
   "id": "54849efa",
   "metadata": {},
   "outputs": [
    {
     "name": "stdout",
     "output_type": "stream",
     "text": [
      "Length of lis is 5\n"
     ]
    }
   ],
   "source": [
    "    # A naive Python implementation of LIS problem\n",
    "\n",
    "\n",
    "    # Global variable to store the maximum\n",
    "    global maximum\n",
    "\n",
    "\n",
    "    # To make use of recursive calls, this function must return\n",
    "    # two things:\n",
    "    # 1) Length of LIS ending with element arr[n-1]. We use\n",
    "    # max_ending_here for this purpose\n",
    "    # 2) Overall maximum as the LIS may end with an element\n",
    "    # before arr[n-1] max_ref is used this purpose.\n",
    "    # The value of LIS of full array of size n is stored in\n",
    "    # *max_ref which is our final result\n",
    "    def _lis(arr, n):\n",
    "\n",
    "        # To allow the access of global variable\n",
    "        global maximum\n",
    "\n",
    "        # Base Case\n",
    "        if n == 1:\n",
    "            return 1\n",
    "\n",
    "        # maxEndingHere is the length of LIS ending with arr[n-1]\n",
    "        maxEndingHere = 1\n",
    "\n",
    "        # Recursively get all LIS ending with\n",
    "        # arr[0], arr[1]..arr[n-2]\n",
    "        # If arr[i-1] is smaller than arr[n-1], and\n",
    "        # max ending with arr[n-1] needs to be updated,\n",
    "        # then update it\n",
    "        for i in range(1, n):\n",
    "            res = _lis(arr, i)\n",
    "            if arr[i-1] < arr[n-1] and res+1 > maxEndingHere:\n",
    "                maxEndingHere = res + 1\n",
    "\n",
    "        # Compare maxEndingHere with overall maximum. And\n",
    "        # update the overall maximum if needed\n",
    "        maximum = max(maximum, maxEndingHere)\n",
    "\n",
    "        return maxEndingHere\n",
    "\n",
    "\n",
    "\n",
    "    def lis(arr):\n",
    "\n",
    "        # To allow the access of global variable\n",
    "        global maximum\n",
    "\n",
    "        # Length of arr\n",
    "        n = len(arr)\n",
    "\n",
    "        # Maximum variable holds the result\n",
    "        maximum = 1\n",
    "\n",
    "        # The function _lis() stores its result in maximum\n",
    "        _lis(arr, n)\n",
    "        return maximum\n",
    "\n",
    "\n",
    "    # Driver program to test the above function\n",
    "    if __name__ == '__main__':\n",
    "        arr = [10, 22, 9, 33, 21, 50, 41, 60]\n",
    "        n = len(arr)\n",
    "\n",
    "        # Function call\n",
    "        print (\"Length of lis is\", lis(arr))\n",
    "\n",
    "    # This code is contributed by NIKHIL KUMAR SINGH\n"
   ]
  },
  {
   "cell_type": "code",
   "execution_count": null,
   "id": "454c9036",
   "metadata": {},
   "outputs": [],
   "source": []
  },
  {
   "cell_type": "code",
   "execution_count": 29,
   "id": "4c4e8657",
   "metadata": {},
   "outputs": [],
   "source": [
    "class Solution:\n",
    "    def find132pattern(self, nums):\n",
    "        if len(set(nums)) < 3:\n",
    "            return False\n",
    "\n",
    "        min_nums = [nums[0]]\n",
    "        for i in range(1, len(nums)):\n",
    "            min_nums.append(min(nums[i], min_nums[-1]))\n",
    "            \n",
    "        stack = []  \n",
    "        i = len(nums) - 1\n",
    "        for i in range(len(nums)-1, -1, -1):\n",
    "            # 4\n",
    "            if( nums[i] > min_nums[i] ):\n",
    "                # 5\n",
    "                while( stack and stack[-1] <= min_nums[i] ):\n",
    "                    stack.pop()\n",
    "                # 6\n",
    "                if(stack and min_nums[i] < stack[-1] < nums[i] ):\n",
    "                    return True\n",
    "                # 4\n",
    "                stack.append(nums[i])\n",
    "        return False       \n",
    "        "
   ]
  },
  {
   "cell_type": "code",
   "execution_count": 30,
   "id": "9fa6462f",
   "metadata": {},
   "outputs": [
    {
     "data": {
      "text/plain": [
       "False"
      ]
     },
     "execution_count": 30,
     "metadata": {},
     "output_type": "execute_result"
    }
   ],
   "source": [
    "e = Solution()\n",
    "e.find132pattern([1,2,3,4])"
   ]
  },
  {
   "cell_type": "code",
   "execution_count": null,
   "id": "b8e66f1f",
   "metadata": {},
   "outputs": [],
   "source": []
  }
 ],
 "metadata": {
  "kernelspec": {
   "display_name": "Python 3 (ipykernel)",
   "language": "python",
   "name": "python3"
  },
  "language_info": {
   "codemirror_mode": {
    "name": "ipython",
    "version": 3
   },
   "file_extension": ".py",
   "mimetype": "text/x-python",
   "name": "python",
   "nbconvert_exporter": "python",
   "pygments_lexer": "ipython3",
   "version": "3.10.9"
  }
 },
 "nbformat": 4,
 "nbformat_minor": 5
}
